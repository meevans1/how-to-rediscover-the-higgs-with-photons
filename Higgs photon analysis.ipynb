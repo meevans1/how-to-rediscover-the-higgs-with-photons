{
 "cells": [
  {
   "cell_type": "markdown",
   "metadata": {},
   "source": [
    "# How to rediscover the Higgs boson yourself!\n",
    "This notebook uses ATLAS Open Data http://opendata.atlas.cern to show you the steps to rediscover the Higgs boson yourself!\n",
    "\n",
    "The datasets used in this notebook have already been filtered to include at least 2 photons per event, so that processing is quicker."
   ]
  },
  {
   "cell_type": "markdown",
   "metadata": {},
   "source": [
    "<CENTER><img src=\"Hyy_feynman.pdf\" style=\"width:40%\"></CENTER>"
   ]
  },
  {
   "cell_type": "markdown",
   "metadata": {},
   "source": [
    "## First time setup\n",
    "This first cell only needs to be run the first time you open this notebook on your computer. \n",
    "\n",
    "If you close jupyter and re-open on the same computer, you won't need to run this first cell again.\n",
    "\n",
    "If you re-open on binder, you will need to run this cell again.\n",
    "\n",
    "If you run into a problem of \"uproot not being available\", Kernel -> Restart & Run All"
   ]
  },
  {
   "cell_type": "code",
   "execution_count": null,
   "metadata": {},
   "outputs": [],
   "source": [
    "import sys\n",
    "!{sys.executable} -m pip install --upgrade --user pip\n",
    "!{sys.executable} -m pip install -U numpy pandas uproot matplotlib lmfit --user"
   ]
  },
  {
   "cell_type": "markdown",
   "metadata": {},
   "source": [
    "## To setup everytime\n",
    "Cell -> Run All Below\n",
    "\n",
    "to be done every time you re-open this notebook"
   ]
  },
  {
   "cell_type": "code",
   "execution_count": 41,
   "metadata": {},
   "outputs": [],
   "source": [
    "import uproot\n",
    "import pandas as pd\n",
    "import time\n",
    "import math\n",
    "import numpy as np\n",
    "import matplotlib.pyplot as plt\n",
    "from lmfit.models import PolynomialModel, GaussianModel\n",
    "from matplotlib.ticker import MultipleLocator,LogLocator,LogFormatterSciNotation # for minor ticks"
   ]
  },
  {
   "cell_type": "code",
   "execution_count": 42,
   "metadata": {},
   "outputs": [],
   "source": [
    "lumi = 547 # pb-1\n",
    "\n",
    "tuple_path = \"Photon_Input/Data/\""
   ]
  },
  {
   "cell_type": "code",
   "execution_count": 43,
   "metadata": {},
   "outputs": [],
   "source": [
    "samples = {\n",
    "\n",
    "    'data': {\n",
    "        'list' : ['data_A']\n",
    "    },\n",
    "\n",
    "}"
   ]
  },
  {
   "cell_type": "code",
   "execution_count": 44,
   "metadata": {},
   "outputs": [],
   "source": [
    "def get_data_from_files():\n",
    "\n",
    "    data = {}\n",
    "    \n",
    "    for s in samples:\n",
    "        print(s+':')\n",
    "        frames = []\n",
    "        for val in samples[s]['list']:\n",
    "            fileString = tuple_path+val+\".GamGam.root\"\n",
    "            if fileString != \"\":\n",
    "                temp = read_file(fileString,val)\n",
    "                frames.append(temp)\n",
    "            else:\n",
    "                print(\"Error: \"+val+\" not found!\")\n",
    "        data[s] = pd.concat(frames)\n",
    "\n",
    "    return data"
   ]
  },
  {
   "cell_type": "code",
   "execution_count": 45,
   "metadata": {},
   "outputs": [],
   "source": [
    "def calc_myy(photon_pt,photon_eta,photon_phi):\n",
    "    myy = 2*photon_pt[0]*photon_pt[1]\n",
    "    cosh = math.cosh(photon_eta[0]-photon_eta[1])\n",
    "    cos = math.cos(photon_phi[0]-photon_phi[1])\n",
    "    myy *= ( cosh - cos )\n",
    "    return math.sqrt(myy)/1000"
   ]
  },
  {
   "cell_type": "markdown",
   "metadata": {},
   "source": [
    "## Changing an already uncommented cut"
   ]
  },
  {
   "cell_type": "markdown",
   "metadata": {},
   "source": [
    "If you change a cut: Cell -> Run All Below\n",
    "\n",
    "If you uncomment a cut here, you also need to uncomment the corresponding cut in the cell above."
   ]
  },
  {
   "cell_type": "code",
   "execution_count": 46,
   "metadata": {},
   "outputs": [],
   "source": [
    "# Cut on number of photons\n",
    "# paper: \"The data used in this channel are selected using a diphoton trigger, which requires two clusters\"\n",
    "def cut_photon_n (photon_n):\n",
    "# want to discard any events where photon_n does not equal 2\n",
    "    # exclamation mark (!) means \"not\"\n",
    "    # so != means \"not equal to\"\n",
    "    return photon_n != 2\n",
    "\n",
    "# Cut on pseudorapidity outside the fiducial region\n",
    "# paper: \"Photon candidates are reconstructed in the fiducial region |η| < 2.37\"\n",
    "def cut_photon_eta_fiducial(photon_eta):\n",
    "# want to discard any events where modulus of photon_eta > 2.37\n",
    "    return photon_eta[0] > 2.37 or photon_eta[1] > 2.37 or photon_eta[0] < -2.37 or photon_eta[1] < -2.37\n",
    "\n",
    "# Cut on pseudorapidity in barrel/end-cap transition region\n",
    "# paper: \"excluding the calorimeter barrel/end-cap transition region 1.37 <􏰈 |η| < 1.52\"\n",
    "def cut_photon_eta_transition(photon_eta):\n",
    "# want to discard events where modulus of photon_eta between 1.37 and 1.52\n",
    "    if photon_eta[0] < 1.52 and photon_eta[0] > 1.37: return True\n",
    "    elif photon_eta[1] < 1.52 and photon_eta[1] > 1.37: return True\n",
    "    elif photon_eta[0] > -1.52 and photon_eta[0] < -1.37: return True\n",
    "    elif photon_eta[1] < -1.37 and photon_eta[1] > -1.52: return True\n",
    "    else: return False\n",
    "    \n",
    "# Cut on Transverse momentum\n",
    "# paper: \"The leading (sub-leading) photon candidate is required to have ET > 40 GeV (30 GeV)\"\n",
    "def cut_photon_pt(photon_pt):\n",
    "# want to discard any events where photon_pt[0] < 40000 MeV or photon_pt[1] < 30000 MeV\n",
    "    # first lepton is [0], 2nd lepton is [1] etc\n",
    "    return photon_pt[0] < 40000 or photon_pt[1] < 30000\n",
    "\n",
    "# Cut on photon reconstruction\n",
    "# paper: \"Photon candidates are required to pass identification criteria\"\n",
    "def cut_photon_reconstruction(photon_isTightID):\n",
    "# want to discard events where it is false for one or both photons\n",
    "    return photon_isTightID[0] == False or photon_isTightID[1] == False\n",
    "\n",
    "# Cut on energy isolation\n",
    "# paper: \"Photon candidates are required to have an isolation transverse energy of less than 4 GeV\"\n",
    "def cut_isolation_et(photon_etcone20):\n",
    "# want to discard events where isolation eT > 4000 MeV\n",
    "    return photon_etcone20[0] > 4000 or photon_etcone20[1] > 4000\n",
    "    \n",
    "# Cut on reconstructed invariant mass lower limit\n",
    "# paper: \"in the diphoton invariant mass range between 100 GeV and 160 GeV\"\n",
    "def cut_mass_lower(myy):\n",
    "# want to discard minimum invariant reconstructed mass < 100 GeV\n",
    "    return myy < 100\n",
    "\n",
    "# Cut on reconstructed invariant mass upper limit\n",
    "# paper: \"in the diphoton invariant mass range between 100 GeV and 160 GeV\"\n",
    "def cut_mass_upper(myy):\n",
    "# want to discard maximum invariant reconstructed mass > 160 GeV\n",
    "    return myy > 160"
   ]
  },
  {
   "cell_type": "markdown",
   "metadata": {},
   "source": [
    "## Uncommenting a new cut \n",
    "\n",
    "If you add a cut: Cell -> Run All Below"
   ]
  },
  {
   "cell_type": "code",
   "execution_count": 47,
   "metadata": {},
   "outputs": [],
   "source": [
    "def read_file(path,sample):\n",
    "    start = time.time()\n",
    "    print(\"\\tProcessing: \"+sample)\n",
    "    mc = uproot.open(path)[\"mini\"]\n",
    "    data = mc.pandas.df([\"photon_n\",\"photon_trigMatched\",\"photon_pt\",\"photon_eta\",\"photon_phi\",\"photon_isTightID\",\n",
    "                         \"photon_etcone20\"], flatten=False)\n",
    "\n",
    "    nIn = len(data.index)\n",
    "       \n",
    "    # Calculate reconstructed diphoton invariant mass\n",
    "    data['myy'] = np.vectorize(calc_myy)(data.photon_pt,data.photon_eta,data.photon_phi)\n",
    "    \n",
    "    # Cut on number of photons\n",
    "    fail = data[ np.vectorize(cut_photon_n)(data.photon_n)].index\n",
    "    data.drop(fail, inplace=True)\n",
    "    \n",
    "    # Cut on pseudorapidity outside fiducial region\n",
    "    fail = data[ np.vectorize(cut_photon_eta_fiducial)(data.photon_eta)].index\n",
    "    data.drop(fail, inplace=True)\n",
    "    \n",
    "    # Cut on pseudorapidity inside barrel/end-cap transition region\n",
    "    fail = data[ np.vectorize(cut_photon_eta_transition)(data.photon_eta)].index\n",
    "    data.drop(fail, inplace=True)\n",
    "    \n",
    "    # Cut on transverse momentum of the photons\n",
    "    fail = data[ np.vectorize(cut_photon_pt)(data.photon_pt)].index\n",
    "    data.drop(fail, inplace=True)\n",
    "    \n",
    "    # Cut on photon reconstruction\n",
    "    fail = data[ np.vectorize(cut_photon_reconstruction)(data.photon_isTightID)].index\n",
    "    data.drop(fail, inplace=True)\n",
    "    \n",
    "    # Cut on energy isolation\n",
    "    fail = data[ np.vectorize(cut_isolation_et)(data.photon_etcone20)].index\n",
    "    data.drop(fail, inplace=True)\n",
    "    \n",
    "    # Cut on lower limit of reconstructed invariant mass\n",
    "    fail = data[ np.vectorize(cut_mass_lower)(data.myy)].index\n",
    "    data.drop(fail, inplace=True)\n",
    "    \n",
    "    # Cut on upper limit of reconsructed invariant mass\n",
    "    fail = data[ np.vectorize(cut_mass_upper)(data.myy)].index\n",
    "    data.drop(fail, inplace=True)\n",
    "    \n",
    "    # dataframe contents can be printed at any stage like this\n",
    "    #print(data)\n",
    "    \n",
    "    # dataframe column can be printed at any stage like this\n",
    "    #print(data['photon_pt'])\n",
    "    \n",
    "    # dataframe columns can be printed at any stage like this\n",
    "    #print(data[['photon_pt','photon_eta']])\n",
    "    \n",
    "    nOut = len(data.index)\n",
    "\n",
    "    elapsed = time.time() - start\n",
    "    print(\"\\t\\tTime taken: \"+str(elapsed)+\", nIn: \"+str(nIn)+\", nOut: \"+str(nOut))\n",
    "    \n",
    "    return data"
   ]
  },
  {
   "cell_type": "code",
   "execution_count": 50,
   "metadata": {},
   "outputs": [],
   "source": [
    "def plot_data(data):\n",
    "    \n",
    "    bin_width = 2\n",
    "    num_bins = 30\n",
    "    xrange_min = 100\n",
    "    bins = [xrange_min + x*bin_width for x in range(num_bins+1) ]\n",
    "    data_x = [xrange_min+bin_width/2 + x*bin_width for x in range(num_bins) ]\n",
    "\n",
    "    data_myy,_ = np.histogram(data['data'].myy.values, bins=bins)\n",
    "    data_myy_errors = np.sqrt(data_myy)\n",
    "       \n",
    "    top = np.amax(data_myy)*1.1\n",
    "\n",
    "    # data fit\n",
    "    polynomial_mod = PolynomialModel(4)\n",
    "    gaussian_mod = GaussianModel()\n",
    "    data_x_array = np.asarray(data_x)\n",
    "    pars = polynomial_mod.guess(data_myy, x=data_x_array, c0=data_myy.max(), c1=0, c2=0, c3=0, c4=0)\n",
    "    pars += gaussian_mod.guess(data_myy, x=data_x_array, amplitude=91.7, center=125., sigma=2.4)\n",
    "    model = polynomial_mod + gaussian_mod\n",
    "    out = model.fit(data_myy, pars, x=data_x_array, weights=1/data_myy_errors)\n",
    "    \n",
    "    # background part of fit\n",
    "    params_dict = out.params.valuesdict()\n",
    "    c0 = params_dict['c0']\n",
    "    c1 = params_dict['c1']\n",
    "    c2 = params_dict['c2']\n",
    "    c3 = params_dict['c3']\n",
    "    c4 = params_dict['c4']\n",
    "    background = c0 + c1*data_x_array + c2*data_x_array**2 + c3*data_x_array**3 + c4*data_x_array**4\n",
    "    \n",
    "    plt.axes([0.1,0.3,0.85,0.65]) #(left, bottom, width, height)\n",
    "    main_axes = plt.gca()\n",
    "    main_axes.errorbar( x=data_x, y=data_myy, yerr=data_myy_errors, fmt='ko', label='Data')\n",
    "    main_axes.plot(data_x, out.best_fit, '-r', label='Sig+Bkg Fit')\n",
    "    main_axes.plot(data_x, background, '--r', label='Bkg (4th order polynomial)')\n",
    "    \n",
    "    # Create new legend handles but use the colors from the existing ones \n",
    "    handles, labels = main_axes.get_legend_handles_labels()\n",
    "    \n",
    "    # specify order within legend\n",
    "    handles = [handles[labels.index('Data')],handles[labels.index('Sig+Bkg Fit')],\n",
    "               handles[labels.index('Bkg (4th order polynomial)')]]\n",
    "    labels = ['Data','Sig+Bkg Fit ($m_H=125$ GeV)','Bkg (4th order polynomial)']\n",
    "                                                                                                                                                                      \n",
    "    main_axes.set_ylim(bottom=0,top=top)\n",
    "    main_axes.yaxis.set_minor_locator(MultipleLocator(100))\n",
    "    main_axes.set_xlim(left=xrange_min,right=bins[-1])\n",
    "    #main_axes.set_yticks([1000,2000,3000,4000,5000,6000,7000,8000,9000])\n",
    "    main_axes.xaxis.set_minor_locator(MultipleLocator(2))\n",
    "    main_axes.tick_params(which='both',direction='in',top=True,labeltop=False,labelbottom=False,right=True,labelright=False)\n",
    "        \n",
    "    main_axes.set_ylabel(r'Events / '+str(bin_width)+r' GeV',fontname='sans-serif',horizontalalignment='right',y=1.0,fontsize=11)\n",
    "\n",
    "    lumi_used = str(lumi/1000)\n",
    "    plt.text(0.2,0.97,r'$\\mathbf{{ATLAS}}$ Open Data',ha=\"left\",va=\"top\",family='sans-serif',transform=main_axes.transAxes,fontsize=13)\n",
    "    plt.text(0.2,0.90,'for education only',ha=\"left\",va=\"top\",family='sans-serif',transform=main_axes.transAxes,style='italic',fontsize=8)\n",
    "    plt.text(0.2,0.86,r'$\\sqrt{s}=13\\,\\mathrm{TeV},\\;\\int L\\,dt=$'+lumi_used+r'$\\,\\mathrm{fb}^{-1}$',ha=\"left\",va=\"top\",family='sans-serif',transform=main_axes.transAxes)\n",
    "    plt.text(0.2,0.79,r'$H \\rightarrow \\gamma\\gamma$',ha=\"left\",va=\"top\",family='sans-serif',transform=main_axes.transAxes)\n",
    "\n",
    "    main_axes.legend(handles=handles, labels=labels, frameon=False, loc='lower left')\n",
    "    \n",
    "    \n",
    "    # data - background fit plot\n",
    "    signal_myy = data_myy - background\n",
    "    plt.axes([0.1,0.1,0.85,0.2])\n",
    "    ratio_axes = plt.gca()\n",
    "    ratio_axes.errorbar( x=data_x, y=signal_myy, yerr=data_myy_errors, fmt='ko')\n",
    "    ratio_axes.plot(data_x, out.best_fit-background, '-r')\n",
    "    ratio_axes.plot(data_x, background-background, '--r')                                                                                                                                                                     \n",
    "    ratio_axes.set_ylim(bottom=-signal_myy.max()-data_myy_errors.max(),top=signal_myy.max()+data_myy_errors.max())\n",
    "    ratio_axes.set_xlim(left=xrange_min,right=bins[-1])\n",
    "    #ratio_axes.set_yticks([-200,-100,0,100,200])\n",
    "    ratio_axes.yaxis.set_minor_locator(MultipleLocator(10))\n",
    "    ratio_axes.xaxis.set_minor_locator(MultipleLocator(2))\n",
    "    ratio_axes.set_ylabel(r'Events-Bkg',fontname='sans-serif',fontsize=11)\n",
    "    ratio_axes.set_xlabel(r'$m_{\\gamma\\gamma}$ [GeV]',fontname='sans-serif',horizontalalignment='right',x=1.0,fontsize=11)\n",
    "    ratio_axes.yaxis.set_label_coords(-0.09,0.5)\n",
    "    ratio_axes.tick_params(which='both',direction='in',top=True,labeltop=False,right=True,labelright=False)\n",
    "    \n",
    "    plt.savefig(\"plot.pdf\")\n",
    "    \n",
    "    print('chi^2 = '+str(out.chisqr))\n",
    "    print('gaussian centre = '+str(params_dict['center']))\n",
    "    print('gaussian sigma = '+str(params_dict['sigma']))\n",
    "    \n",
    "    return"
   ]
  },
  {
   "cell_type": "code",
   "execution_count": 51,
   "metadata": {},
   "outputs": [
    {
     "name": "stdout",
     "output_type": "stream",
     "text": [
      "data:\n",
      "\tProcessing: data_A\n",
      "\t\tTime taken: 38.11190104484558, nIn: 430344, nOut: 8493\n",
      "chi^2 = 11.572200352992416\n",
      "gaussian centre = 125.95223323415038\n",
      "gaussian sigma = 0.4231676133281086\n",
      "Time taken: 39.78013300895691\n"
     ]
    },
    {
     "data": {
      "image/png": "[encoded data removed]",
      "text/plain": [
       "<Figure size 432x288 with 2 Axes>"
      ]
     },
     "metadata": {
      "needs_background": "light"
     },
     "output_type": "display_data"
    }
   ],
   "source": [
    "if __name__==\"__main__\":\n",
    "    start = time.time()\n",
    "    data = get_data_from_files()\n",
    "    plot_data(data)\n",
    "    elapsed = time.time() - start\n",
    "    print(\"Time taken: \"+str(elapsed))"
   ]
  },
  {
   "cell_type": "code",
   "execution_count": null,
   "metadata": {},
   "outputs": [],
   "source": []
  }
 ],
 "metadata": {
  "kernelspec": {
   "display_name": "Python 3",
   "language": "python",
   "name": "python3"
  },
  "language_info": {
   "codemirror_mode": {
    "name": "ipython",
    "version": 3
   },
   "file_extension": ".py",
   "mimetype": "text/x-python",
   "name": "python",
   "nbconvert_exporter": "python",
   "pygments_lexer": "ipython3",
   "version": "3.7.3"
  }
 },
 "nbformat": 4,
 "nbformat_minor": 2
}
